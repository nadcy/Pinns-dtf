{
 "cells": [
  {
   "cell_type": "code",
   "execution_count": null,
   "metadata": {},
   "outputs": [],
   "source": [
    "eq = ['- diff(u,x,2) - (torch.pi ** 2) *torch.sin(torch.pi * x) == 0']\n",
    "# 偏微分方程的解为 U=f(x_in)\n",
    "# x_in为n维列向量，U维m维行向量\n",
    "# \n",
    "\n",
    "import torch\n",
    "def diff(y,x):\n",
    "    \n",
    "    return \n",
    "\n",
    "# 格式约定：x_in 为 batch_size * \n",
    "def pinn_loss(x_in, model):\n",
    "    x_in.requires_grad=True\n",
    "    \n",
    "    U = model(x_in)\n",
    "    u = U[:,[0]]\n",
    "    # p,u,v shape = (128*1)\n",
    "    # 计算一阶导\n",
    "    dudx = grad(u, x_in)[0]\n",
    "    du2dx2 = grad(dudx, x_in)[0]\n",
    "    loss = -du2dx2 - (torch.pi ** 2) *torch.sin(torch.pi * x_in)\n",
    "    return loss\n",
    "\n"
   ]
  }
 ],
 "metadata": {
  "kernelspec": {
   "display_name": "Python 3.10.4 ('dl')",
   "language": "python",
   "name": "python3"
  },
  "language_info": {
   "name": "python",
   "version": "3.10.4"
  },
  "orig_nbformat": 4,
  "vscode": {
   "interpreter": {
    "hash": "99c46dd00ab06dc21df0543c4f457244cfc60de6848aea76ff5d022d4955c1dc"
   }
  }
 },
 "nbformat": 4,
 "nbformat_minor": 2
}
