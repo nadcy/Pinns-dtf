{
 "cells": [
  {
   "cell_type": "code",
   "execution_count": 4,
   "metadata": {},
   "outputs": [
    {
     "name": "stdout",
     "output_type": "stream",
     "text": [
      "loss is [6.4407603e+09 4.9660206e-02 6.4407603e+09]\n",
      "loss is [5.8164623e+09 4.0848529e+02 5.8164628e+09]\n",
      "loss is [5.675257e+09 7.699064e+02 5.675258e+09]\n",
      "loss is [5.6580434e+09 8.3290436e+02 5.6580444e+09]\n",
      "loss is [5.658032e+09 8.622415e+02 5.658033e+09]\n",
      "loss is [5.6559427e+09 8.8171234e+02 5.6559437e+09]\n",
      "loss is [5.6567101e+09 9.0116766e+02 5.6567112e+09]\n",
      "loss is [5.6569825e+09 9.2170404e+02 5.6569836e+09]\n",
      "loss is [5.6558894e+09 9.4285760e+02 5.6558904e+09]\n",
      "loss is [5.656505e+09 9.560734e+02 5.656506e+09]\n"
     ]
    },
    {
     "data": {
      "text/plain": [
       "[<matplotlib.lines.Line2D at 0x122994f4310>]"
      ]
     },
     "execution_count": 4,
     "metadata": {},
     "output_type": "execute_result"
    },
    {
     "data": {
      "image/png": "[encoded data removed]",
      "text/plain": [
       "<Figure size 640x480 with 1 Axes>"
      ]
     },
     "metadata": {},
     "output_type": "display_data"
    }
   ],
   "source": [
    "import sys\n",
    "sys.path.append('../')\n",
    "\n",
    "import numpy as np\n",
    "import torch\n",
    "import matplotlib\n",
    "\n",
    "from user_funn.field import D1Field\n",
    "from user_funn.get_net import ForwardNetwork\n",
    "from user_funn.ds import get_data_loader\n",
    "from user_funn.solver import CloudPointSolver\n",
    "from user_funn.pde import grad\n",
    "\n",
    "# 保证迭代参数与DEEPXDE一致\n",
    "device = torch.device(\"cuda:0\" if torch.cuda.is_available() else \"cpu\")\n",
    "\n",
    "import torch.nn as nn\n",
    "class ForwardNetwork(nn.Module):\n",
    "    def __init__(self, net_size_vec=[2,64,64,64,64,3]):\n",
    "        super(ForwardNetwork, self).__init__()\n",
    "        sqnet_para_list = []\n",
    "        # like [2,128,64,32,2], iter end in idx 3(32)\n",
    "        for i in range(len(net_size_vec)-2):\n",
    "            sqnet_para_list.append(\n",
    "                nn.Linear(net_size_vec[i],net_size_vec[i+1]),\n",
    "            )\n",
    "            sqnet_para_list.append(nn.Tanh())\n",
    "\n",
    "        sqnet_para_list.append(nn.BatchNorm1d(net_size_vec[-2]))\n",
    "        sqnet_para_list.append(\n",
    "            nn.Linear(net_size_vec[-2],net_size_vec[-1])\n",
    "            )\n",
    "        \n",
    "        self.linear_relu_stack = nn.Sequential(\n",
    "            *sqnet_para_list\n",
    "        )\n",
    "\n",
    "    def forward(self, x):\n",
    "        y = self.linear_relu_stack(x)\n",
    "        return y\n",
    "\n",
    "model = ForwardNetwork([1, 50, 50, 50, 1]).to(device)\n",
    "\n",
    "loss_fn = torch.nn.MSELoss()\n",
    "\n",
    "## define a pde\n",
    "pde_epoch_size = 16\n",
    "pde_batch_num = 1\n",
    "pde_batch_size = pde_epoch_size//pde_batch_num\n",
    "pde_input = D1Field([-1,1]).get_field_rand(pde_epoch_size)\n",
    "pde_output = np.zeros([pde_epoch_size,1])\n",
    "\n",
    "def pde_loss(model, data):\n",
    "    x_in,y_real = data\n",
    "    x_in.requires_grad=True\n",
    "    U = model(x_in)\n",
    "    u = U[:,[0]]\n",
    "    dudx = grad(u, x_in)[0]\n",
    "    du2dx2 = grad(dudx, x_in)[0]\n",
    "    loss = -du2dx2 - (torch.pi ** 2) * 10000*torch.sin(torch.pi * x_in)\n",
    "    loss = loss_fn(loss, y_real)\n",
    "    return loss\n",
    "\n",
    "## define a bc\n",
    "bc_epoch_size = 2\n",
    "bc_batch_num = 1\n",
    "bc_batch_size = bc_epoch_size//bc_batch_num\n",
    "bc_input = np.array([[-1],[1]])\n",
    "bc_output = np.zeros([bc_epoch_size ,1])\n",
    "bc_batch_size = bc_epoch_size\n",
    "\n",
    "from user_funn.bc import data_loss_factory\n",
    "data_loss = data_loss_factory(loss_fn,[0])\n",
    "\n",
    "solver = CloudPointSolver(\n",
    "    [[pde_input, pde_output],[bc_input, bc_output]],\n",
    "    [pde_loss,data_loss],\n",
    "    model = [1, 100, 100, 100, 1],\n",
    "    optimizer = \"adam\",\n",
    "    batchsize = [pde_batch_size,bc_batch_size])\n",
    "\n",
    "epoch_num = 1000\n",
    "for i in range(epoch_num):\n",
    "    solver.train_step()\n",
    "    if i%100 == 0:\n",
    "        solver.test_step(print_flag=True)\n",
    "\n",
    "x_cpu = np.linspace(-1,1,100).reshape(100,1)\n",
    "y_cpu = solver.model_eval(x_cpu)\n",
    "\n",
    "import matplotlib.pyplot as plt\n",
    "fig,ax = plt.subplots()\n",
    "ax.plot(x_cpu,y_cpu)\n",
    "#ax.plot(x_cpu,np.sin(np.pi*x_cpu),'.')"
   ]
  }
 ],
 "metadata": {
  "kernelspec": {
   "display_name": "Python 3.10.4 ('dl')",
   "language": "python",
   "name": "python3"
  },
  "language_info": {
   "codemirror_mode": {
    "name": "ipython",
    "version": 3
   },
   "file_extension": ".py",
   "mimetype": "text/x-python",
   "name": "python",
   "nbconvert_exporter": "python",
   "pygments_lexer": "ipython3",
   "version": "3.10.4"
  },
  "orig_nbformat": 4,
  "vscode": {
   "interpreter": {
    "hash": "99c46dd00ab06dc21df0543c4f457244cfc60de6848aea76ff5d022d4955c1dc"
   }
  }
 },
 "nbformat": 4,
 "nbformat_minor": 2
}
