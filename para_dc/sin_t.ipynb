{
 "cells": [
  {
   "cell_type": "code",
   "execution_count": 6,
   "metadata": {},
   "outputs": [
    {
     "ename": "ValueError",
     "evalue": "all the input array dimensions for the concatenation axis must match exactly, but along dimension 0, the array at index 0 has size 0 and the array at index 1 has size 50",
     "output_type": "error",
     "traceback": [
      "\u001b[1;31m---------------------------------------------------------------------------\u001b[0m",
      "\u001b[1;31mValueError\u001b[0m                                Traceback (most recent call last)",
      "\u001b[1;32md:\\11月份\\pinn\\tmp_pinn\\para_dc\\sin_t.ipynb Cell 1\u001b[0m in \u001b[0;36m<cell line: 43>\u001b[1;34m()\u001b[0m\n\u001b[0;32m     <a href='vscode-notebook-cell:/d%3A/11%E6%9C%88%E4%BB%BD/pinn/tmp_pinn/para_dc/sin_t.ipynb#W0sZmlsZQ%3D%3D?line=40'>41</a>\u001b[0m pde_epoch_size \u001b[39m=\u001b[39m \u001b[39m32\u001b[39m\n\u001b[0;32m     <a href='vscode-notebook-cell:/d%3A/11%E6%9C%88%E4%BB%BD/pinn/tmp_pinn/para_dc/sin_t.ipynb#W0sZmlsZQ%3D%3D?line=41'>42</a>\u001b[0m bc_epoch_size \u001b[39m=\u001b[39m \u001b[39m1\u001b[39m\n\u001b[1;32m---> <a href='vscode-notebook-cell:/d%3A/11%E6%9C%88%E4%BB%BD/pinn/tmp_pinn/para_dc/sin_t.ipynb#W0sZmlsZQ%3D%3D?line=42'>43</a>\u001b[0m geom\u001b[39m.\u001b[39;49madd_t(np\u001b[39m.\u001b[39;49mzeros([\u001b[39m0\u001b[39;49m]),np\u001b[39m.\u001b[39;49marange(\u001b[39m0\u001b[39;49m,\u001b[39m1\u001b[39;49m,\u001b[39m0.02\u001b[39;49m))\n",
      "File \u001b[1;32md:\\11月份\\pinn\\tmp_pinn\\para_dc\\..\\user_funn\\geom.py:46\u001b[0m, in \u001b[0;36madd_t\u001b[1;34m(cloud_point, t_array)\u001b[0m\n\u001b[0;32m     43\u001b[0m         k \u001b[39m=\u001b[39m k\u001b[39m+\u001b[39m\u001b[39m1\u001b[39m\n\u001b[0;32m     45\u001b[0m rep_cloud_point \u001b[39m=\u001b[39m np\u001b[39m.\u001b[39mtile(cloud_point, (num_time,\u001b[39m1\u001b[39m))\n\u001b[1;32m---> 46\u001b[0m new_cloud_point \u001b[39m=\u001b[39m np\u001b[39m.\u001b[39;49mhstack([rep_t_array, rep_cloud_point])\n\u001b[0;32m     47\u001b[0m \u001b[39mreturn\u001b[39;00m new_cloud_point\n",
      "File \u001b[1;32m<__array_function__ internals>:5\u001b[0m, in \u001b[0;36mhstack\u001b[1;34m(*args, **kwargs)\u001b[0m\n",
      "File \u001b[1;32md:\\ana\\envs\\dl\\lib\\site-packages\\numpy\\core\\shape_base.py:345\u001b[0m, in \u001b[0;36mhstack\u001b[1;34m(tup)\u001b[0m\n\u001b[0;32m    343\u001b[0m     \u001b[39mreturn\u001b[39;00m _nx\u001b[39m.\u001b[39mconcatenate(arrs, \u001b[39m0\u001b[39m)\n\u001b[0;32m    344\u001b[0m \u001b[39melse\u001b[39;00m:\n\u001b[1;32m--> 345\u001b[0m     \u001b[39mreturn\u001b[39;00m _nx\u001b[39m.\u001b[39;49mconcatenate(arrs, \u001b[39m1\u001b[39;49m)\n",
      "File \u001b[1;32m<__array_function__ internals>:5\u001b[0m, in \u001b[0;36mconcatenate\u001b[1;34m(*args, **kwargs)\u001b[0m\n",
      "\u001b[1;31mValueError\u001b[0m: all the input array dimensions for the concatenation axis must match exactly, but along dimension 0, the array at index 0 has size 0 and the array at index 1 has size 50"
     ]
    }
   ],
   "source": [
    "import sys\n",
    "sys.path.append('../')\n",
    "\n",
    "import torch\n",
    "import numpy as np\n",
    "\n",
    "from user_funn import field,get_net,ds,solver,pde,bc,geom\n",
    "\n",
    "device = torch.device(\"cuda:0\" if torch.cuda.is_available() else \"cpu\")\n",
    "model = get_net.ForwardNetwork([1, 50, 50, 50, 1]).to(device)\n",
    "loss_fn = torch.nn.MSELoss()\n",
    "\n",
    "def tc_calc(solver_train_args_list, ic_cp_only_space, t0_val, overlap_length,\n",
    "    model_assign, method):\n",
    "    \"\"\" 进行区域分解的计算\n",
    "    \n",
    "    沿时间方向进行区域分解\n",
    "    Args:\n",
    "    Returns:\n",
    "    \"\"\"\n",
    "\n",
    "def pde_loss(model, data):\n",
    "    model_input,y_real = data\n",
    "    model_input.requires_grad=True\n",
    "\n",
    "    # 数据提取\n",
    "    t = model_input[:,[0]]\n",
    "    model_input_use = torch.cat((t),dim = 1)\n",
    "    U = model(model_input_use)\n",
    "    y = U[:,[0]]\n",
    "\n",
    "    # 计算损失\n",
    "    dydt = pde.diff(y,t)\n",
    "    residual = dydt - torch.cos(t)\n",
    "    loss = loss_fn(residual, torch.zeros_like(loss))\n",
    "    return loss\n",
    "\n",
    "from user_funn.bc import data_loss_factory\n",
    "data_loss = data_loss_factory(loss_fn,[0])\n",
    "\n",
    "pde_epoch_size = 32\n",
    "bc_epoch_size = 1\n",
    "geom.add_t(np.zeros([0]),np.arange(0,1,0.02))"
   ]
  }
 ],
 "metadata": {
  "kernelspec": {
   "display_name": "Python 3.10.4 ('dl')",
   "language": "python",
   "name": "python3"
  },
  "language_info": {
   "codemirror_mode": {
    "name": "ipython",
    "version": 3
   },
   "file_extension": ".py",
   "mimetype": "text/x-python",
   "name": "python",
   "nbconvert_exporter": "python",
   "pygments_lexer": "ipython3",
   "version": "3.10.4"
  },
  "orig_nbformat": 4,
  "vscode": {
   "interpreter": {
    "hash": "99c46dd00ab06dc21df0543c4f457244cfc60de6848aea76ff5d022d4955c1dc"
   }
  }
 },
 "nbformat": 4,
 "nbformat_minor": 2
}
