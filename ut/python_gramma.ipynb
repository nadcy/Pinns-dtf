{
 "cells": [
  {
   "cell_type": "code",
   "execution_count": 7,
   "metadata": {},
   "outputs": [
    {
     "name": "stdout",
     "output_type": "stream",
     "text": [
      "d:\\2月\\pinn_nv\\tmp_pinn\\ut\n",
      "2\n",
      "[2 4]\n",
      "2\n",
      "['d:\\\\2月\\\\pinn_nv\\\\tmp_pinn\\\\ut', 'd:\\\\ana\\\\envs\\\\dl\\\\python310.zip', 'd:\\\\ana\\\\envs\\\\dl\\\\DLLs', 'd:\\\\ana\\\\envs\\\\dl\\\\lib', 'd:\\\\ana\\\\envs\\\\dl', '', 'd:\\\\ana\\\\envs\\\\dl\\\\lib\\\\site-packages', 'd:\\\\ana\\\\envs\\\\dl\\\\lib\\\\site-packages\\\\win32', 'd:\\\\ana\\\\envs\\\\dl\\\\lib\\\\site-packages\\\\win32\\\\lib', 'd:\\\\ana\\\\envs\\\\dl\\\\lib\\\\site-packages\\\\Pythonwin', '../', '../', '../', '../', '../', '../', '../']\n",
      "tensor([[0],\n",
      "        [1],\n",
      "        [2],\n",
      "        [5]])\n",
      "[[[ 0  1  2]\n",
      "  [ 3  4  5]\n",
      "  [ 6  7  8]]\n",
      "\n",
      " [[ 9 10 11]\n",
      "  [12 13 14]\n",
      "  [15 16 17]]\n",
      "\n",
      " [[18 19 20]\n",
      "  [21 22 23]\n",
      "  [24 25 26]]]\n"
     ]
    },
    {
     "ename": "TypeError",
     "evalue": "can only concatenate list (not \"int\") to list",
     "output_type": "error",
     "traceback": [
      "\u001b[1;31m---------------------------------------------------------------------------\u001b[0m",
      "\u001b[1;31mTypeError\u001b[0m                                 Traceback (most recent call last)",
      "\u001b[1;32md:\\2月\\pinn_nv\\tmp_pinn\\ut\\python_gramma.ipynb Cell 1\u001b[0m in \u001b[0;36m<cell line: 20>\u001b[1;34m()\u001b[0m\n\u001b[0;32m     <a href='vscode-notebook-cell:/d%3A/2%E6%9C%88/pinn_nv/tmp_pinn/ut/python_gramma.ipynb#W0sZmlsZQ%3D%3D?line=16'>17</a>\u001b[0m a \u001b[39m=\u001b[39m np\u001b[39m.\u001b[39marange(\u001b[39m27\u001b[39m)\u001b[39m.\u001b[39mreshape(\u001b[39m3\u001b[39m,\u001b[39m3\u001b[39m,\u001b[39m3\u001b[39m)\n\u001b[0;32m     <a href='vscode-notebook-cell:/d%3A/2%E6%9C%88/pinn_nv/tmp_pinn/ut/python_gramma.ipynb#W0sZmlsZQ%3D%3D?line=17'>18</a>\u001b[0m \u001b[39mprint\u001b[39m(a)\n\u001b[1;32m---> <a href='vscode-notebook-cell:/d%3A/2%E6%9C%88/pinn_nv/tmp_pinn/ut/python_gramma.ipynb#W0sZmlsZQ%3D%3D?line=19'>20</a>\u001b[0m \u001b[39mprint\u001b[39m([\u001b[39m1\u001b[39;49m,\u001b[39m2\u001b[39;49m,\u001b[39m3\u001b[39;49m] \u001b[39m+\u001b[39;49m \u001b[39m5\u001b[39;49m)\n",
      "\u001b[1;31mTypeError\u001b[0m: can only concatenate list (not \"int\") to list"
     ]
    }
   ],
   "source": [
    "import os\n",
    "print(os.getcwd())\n",
    "import sys\n",
    "import numpy as np\n",
    "print(len([[1,2],[3,4]]))\n",
    "a = np.array([[1,2],[3,4]])\n",
    "print(a[:,1])\n",
    "print(len(np.array([[1,2],[3,4]])))\n",
    "sys.path.append('../')\n",
    "\n",
    "print(sys.path)\n",
    "import torch\n",
    "use = torch.tensor([[0],[1],[2],[5]])\n",
    "choice = torch.tensor([0])\n",
    "print(use[:,choice])\n",
    "\n",
    "a = np.arange(27).reshape(3,3,3)\n",
    "print(a)"
   ]
  },
  {
   "cell_type": "code",
   "execution_count": null,
   "metadata": {},
   "outputs": [],
   "source": []
  }
 ],
 "metadata": {
  "kernelspec": {
   "display_name": "Python 3.10.4 ('dl')",
   "language": "python",
   "name": "python3"
  },
  "language_info": {
   "codemirror_mode": {
    "name": "ipython",
    "version": 3
   },
   "file_extension": ".py",
   "mimetype": "text/x-python",
   "name": "python",
   "nbconvert_exporter": "python",
   "pygments_lexer": "ipython3",
   "version": "3.10.4"
  },
  "orig_nbformat": 4,
  "vscode": {
   "interpreter": {
    "hash": "99c46dd00ab06dc21df0543c4f457244cfc60de6848aea76ff5d022d4955c1dc"
   }
  }
 },
 "nbformat": 4,
 "nbformat_minor": 2
}
