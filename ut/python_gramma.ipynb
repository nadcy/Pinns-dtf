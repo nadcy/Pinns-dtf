{
 "cells": [
  {
   "cell_type": "code",
   "execution_count": 4,
   "metadata": {},
   "outputs": [
    {
     "name": "stdout",
     "output_type": "stream",
     "text": [
      "d:\\9月份\\9月28日-10月7日\\module_compare\\ut\n",
      "['d:\\\\9月份\\\\9月28日-10月7日\\\\module_compare\\\\ut', 'd:\\\\ana\\\\envs\\\\dl\\\\python310.zip', 'd:\\\\ana\\\\envs\\\\dl\\\\DLLs', 'd:\\\\ana\\\\envs\\\\dl\\\\lib', 'd:\\\\ana\\\\envs\\\\dl', '', 'd:\\\\ana\\\\envs\\\\dl\\\\lib\\\\site-packages', 'd:\\\\ana\\\\envs\\\\dl\\\\lib\\\\site-packages\\\\win32', 'd:\\\\ana\\\\envs\\\\dl\\\\lib\\\\site-packages\\\\win32\\\\lib', 'd:\\\\ana\\\\envs\\\\dl\\\\lib\\\\site-packages\\\\Pythonwin', '../', '../', '../', '../']\n",
      "tensor([[0],\n",
      "        [1],\n",
      "        [2],\n",
      "        [5]])\n"
     ]
    }
   ],
   "source": [
    "import os\n",
    "print(os.getcwd())\n",
    "import sys\n",
    "\n",
    "sys.path.append('../')\n",
    "\n",
    "print(sys.path)\n",
    "import torch\n",
    "use = torch.tensor([[0],[1],[2],[5]])\n",
    "choice = torch.tensor([0])\n",
    "print(use[:,choice])"
   ]
  },
  {
   "cell_type": "code",
   "execution_count": null,
   "metadata": {},
   "outputs": [],
   "source": []
  }
 ],
 "metadata": {
  "kernelspec": {
   "display_name": "Python 3.10.4 ('dl')",
   "language": "python",
   "name": "python3"
  },
  "language_info": {
   "codemirror_mode": {
    "name": "ipython",
    "version": 3
   },
   "file_extension": ".py",
   "mimetype": "text/x-python",
   "name": "python",
   "nbconvert_exporter": "python",
   "pygments_lexer": "ipython3",
   "version": "3.10.4"
  },
  "orig_nbformat": 4,
  "vscode": {
   "interpreter": {
    "hash": "99c46dd00ab06dc21df0543c4f457244cfc60de6848aea76ff5d022d4955c1dc"
   }
  }
 },
 "nbformat": 4,
 "nbformat_minor": 2
}
