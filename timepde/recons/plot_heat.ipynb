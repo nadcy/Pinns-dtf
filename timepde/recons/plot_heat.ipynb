{
 "cells": [
  {
   "cell_type": "code",
   "execution_count": 1,
   "metadata": {},
   "outputs": [
    {
     "name": "stdout",
     "output_type": "stream",
     "text": [
      "(array([[0.58094894, 0.25474515],\n",
      "       [0.4721053 , 0.55324155],\n",
      "       [0.86299645, 0.19012235],\n",
      "       ...,\n",
      "       [0.12115415, 2.37839845],\n",
      "       [0.72335908, 2.74861775],\n",
      "       [0.97429047, 2.42525076]]), array([[-0.00067057],\n",
      "       [ 0.02076453],\n",
      "       [-0.005634  ],\n",
      "       ...,\n",
      "       [ 0.1987031 ],\n",
      "       [ 0.19997212],\n",
      "       [ 0.18092349]], dtype=float32))\n"
     ]
    },
    {
     "data": {
      "image/png": "[encoded data removed]",
      "text/plain": [
       "<Figure size 432x288 with 3 Axes>"
      ]
     },
     "metadata": {
      "needs_background": "light"
     },
     "output_type": "display_data"
    }
   ],
   "source": [
    "import os\n",
    "import sys\n",
    "sys.path.append('..\\\\..\\\\')\n",
    "import pickle\n",
    "file = '..\\\\..\\\\para_result\\\\heatud\\\\test_record.pkl'\n",
    "import numpy as np\n",
    "import matplotlib.pyplot as plt\n",
    "import matplotlib.tri as tri\n",
    "from user_fun.io import read_comsol\n",
    "from user_fun.io.read_comsol import process_comsol_time_table\n",
    "\n",
    "def plot_result(plot_input, plot_output):\n",
    "\n",
    "    tb = read_comsol.comsol_read('time_heat.csv', skiprows=8)\n",
    "    tb = process_comsol_time_table(tb, space_dimension=1)\n",
    "    x = tb['x'].to_numpy()\n",
    "    t = tb['t'].to_numpy()\n",
    "    u = tb['u (K)'].to_numpy()\n",
    "\n",
    "\n",
    "    # Create color normalization\n",
    "    vmin = np.min(u)\n",
    "    vmax = np.max(u)\n",
    "    from matplotlib.colors import Normalize\n",
    "    norm = Normalize(vmin=vmin, vmax=vmax)\n",
    "\n",
    "    # Create plots with vertical arrangement\n",
    "    fig, axs = plt.subplots(2, 1, sharex=True, sharey=True,constrained_layout=True)\n",
    "\n",
    "    # Set axis limits\n",
    "    for ax in axs:\n",
    "        ax.set_xlim(0, 3)\n",
    "        ax.set_ylim(0, 1)\n",
    "        ax.set_aspect('equal')\n",
    "\n",
    "    # Create triangulation object\n",
    "    triang2 = tri.Triangulation(plot_input[:,1], plot_input[:,0])\n",
    "    triang1 = tri.Triangulation(t,x)\n",
    "\n",
    "    # Plot tricontour 1\n",
    "    cn1 = axs[0].tricontourf(triang1, u, cmap='viridis', norm=norm)\n",
    "    axs[0].set_title('real')\n",
    "\n",
    "    # Plot tricontour 2\n",
    "    cn2 = axs[1].tricontourf(triang2, plot_output[:, 0], cmap='viridis', norm=norm)\n",
    "    axs[1].set_title('pred')\n",
    "\n",
    "    cbar_ax = fig.add_axes([0.85, 0.15, 0.05, 0.7])\n",
    "    cbar = fig.colorbar(cn1, cax=cbar_ax, orientation='vertical')\n",
    "\n",
    "\n",
    "with open(file, 'rb') as file:\n",
    "    loaded_test_record = pickle.load(file)\n",
    "\n",
    "import matplotlib.pyplot as plt\n",
    "for i in range(len(loaded_test_record)):\n",
    "    plot_input = loaded_test_record[i][0]\n",
    "    plot_output = loaded_test_record[i][1]\n",
    "\n",
    "plot_result(plot_input, plot_output)\n",
    "c = loaded_test_record[0]\n",
    "print(c)\n"
   ]
  },
  {
   "cell_type": "code",
   "execution_count": 2,
   "metadata": {},
   "outputs": [
    {
     "name": "stdout",
     "output_type": "stream",
     "text": [
      "0.009994179332721634\n"
     ]
    }
   ],
   "source": [
    "import numpy as np\n",
    "from scipy.interpolate import griddata\n",
    "\n",
    "tb = read_comsol.comsol_read('time_heat.csv', skiprows=8)\n",
    "tb = process_comsol_time_table(tb, space_dimension=1)\n",
    "x = tb['x'].to_numpy()\n",
    "t = tb['t'].to_numpy()\n",
    "u = tb['u (K)'].to_numpy()\n",
    "\n",
    "\n",
    "x_range = np.linspace(min(x.min(), plot_input[:,0].min()), max(x.max(), plot_input[:,0].max()), 100)\n",
    "y_range = np.linspace(min(t.min(), plot_input[:,1].min()), max(t.max(), plot_input[:,1].max()), 100)\n",
    "X, Y = np.meshgrid(x_range, y_range)\n",
    "\n",
    "u_real_interp = griddata((x, t), u, (X, Y), method='cubic')\n",
    "\n",
    "u_pred_interp = griddata((plot_input[:,0],plot_input[:,1]), plot_output[:, 0], (X, Y), method='cubic')\n",
    "\n",
    "# 在 u_pred_interp 中找到 NaN 值的位置\n",
    "nan_mask = np.isnan(u_pred_interp)\n",
    "\n",
    "# 使用 ~nan_mask 筛选出没有 NaN 值的元素\n",
    "u_real_interp_no_nan = u_real_interp[~nan_mask]\n",
    "u_pred_interp_no_nan = u_pred_interp[~nan_mask]\n",
    "\n",
    "# 计算相对误差\n",
    "relative_error = np.abs((u_real_interp_no_nan - u_pred_interp_no_nan))\n",
    "\n",
    "\n",
    "mean_relative_error = np.nanmean(relative_error)\n",
    "print(mean_relative_error)\n",
    "max_relative_error = np.nanmax(relative_error)\n",
    "\n",
    "\n",
    "\n"
   ]
  },
  {
   "cell_type": "code",
   "execution_count": 3,
   "metadata": {},
   "outputs": [
    {
     "name": "stdout",
     "output_type": "stream",
     "text": [
      "Mean relative error: 0.009994179332721634\n",
      "Max relative error: 0.0815150808054713\n"
     ]
    }
   ],
   "source": [
    "from user_fun.io import read_comsol\n",
    "import numpy as np\n",
    "from scipy.interpolate import griddata\n",
    "\n",
    "def calculate_error(plot_input, plot_output):\n",
    "    tb = read_comsol.comsol_read('time_heat.csv', skiprows=8)\n",
    "    tb = process_comsol_time_table(tb, space_dimension=1)\n",
    "    x = tb['x'].to_numpy()\n",
    "    t = tb['t'].to_numpy()\n",
    "    u = tb['u (K)'].to_numpy()\n",
    "\n",
    "    x_range = np.linspace(min(x.min(), plot_input[:, 0].min()), max(x.max(), plot_input[:, 0].max()), 100)\n",
    "    y_range = np.linspace(min(t.min(), plot_input[:, 1].min()), max(t.max(), plot_input[:, 1].max()), 100)\n",
    "    X, Y = np.meshgrid(x_range, y_range)\n",
    "\n",
    "    u_real_interp = griddata((x, t), u, (X, Y), method='cubic')\n",
    "    u_pred_interp = griddata((plot_input[:, 0], plot_input[:, 1]), plot_output[:, 0], (X, Y), method='cubic')\n",
    "\n",
    "    nan_mask = np.isnan(u_pred_interp)\n",
    "    u_real_interp_no_nan = u_real_interp[~nan_mask]\n",
    "    u_pred_interp_no_nan = u_pred_interp[~nan_mask]\n",
    "\n",
    "    relative_error = np.abs((u_real_interp_no_nan - u_pred_interp_no_nan))\n",
    "\n",
    "    mean_relative_error = np.nanmean(relative_error)\n",
    "    max_relative_error = np.nanmax(relative_error)\n",
    "\n",
    "    return mean_relative_error, max_relative_error\n",
    "\n",
    "mean_error, max_error = calculate_error(plot_input, plot_output)\n",
    "\n",
    "print(\"Mean relative error:\", mean_error)\n",
    "print(\"Max relative error:\", max_error)"
   ]
  }
 ],
 "metadata": {
  "kernelspec": {
   "display_name": "dl",
   "language": "python",
   "name": "python3"
  },
  "language_info": {
   "codemirror_mode": {
    "name": "ipython",
    "version": 3
   },
   "file_extension": ".py",
   "mimetype": "text/x-python",
   "name": "python",
   "nbconvert_exporter": "python",
   "pygments_lexer": "ipython3",
   "version": "3.8.11"
  },
  "orig_nbformat": 4
 },
 "nbformat": 4,
 "nbformat_minor": 2
}
