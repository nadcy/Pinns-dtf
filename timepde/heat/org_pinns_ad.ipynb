{
 "cells": [
  {
   "cell_type": "code",
   "execution_count": 1,
   "metadata": {},
   "outputs": [
    {
     "data": {
      "application/vnd.jupyter.widget-view+json": {
       "model_id": "5b84a8cf280145d2b1c94cda04ceb6e7",
       "version_major": 2,
       "version_minor": 0
      },
      "text/plain": [
       "VBox(children=(Label(value='Point Sets:'), Checkbox(value=True, description='left bound-1'), Checkbox(value=Tr…"
      ]
     },
     "metadata": {},
     "output_type": "display_data"
    },
    {
     "data": {
      "application/vnd.jupyter.widget-view+json": {
       "model_id": "2e51fbb36f514a94b2000fb83252051a",
       "version_major": 2,
       "version_minor": 0
      },
      "text/plain": [
       "Output()"
      ]
     },
     "metadata": {},
     "output_type": "display_data"
    }
   ],
   "source": [
    "import sys\n",
    "sys.path.append('./../../')\n",
    "\n",
    "import torch\n",
    "import numpy as np\n",
    "import matplotlib.pyplot as plt\n",
    "import ipywidgets as widgets\n",
    "from IPython.display import display\n",
    "from user_fun.pde import diff\n",
    "\n",
    "np.random.seed(1)\n",
    "torch.manual_seed(1)\n",
    "\n",
    "\n",
    "from user_fun.solver.cp_solver import CloudPointSolver\n",
    "from user_fun.geom import line_linspace,generate_points_in_rectangle\n",
    "\n",
    "a = 0.02\n",
    "density = 32\n",
    "init_input = line_linspace([0,0],[1,0],density*2)\n",
    "init_output = np.sin(2*np.pi *init_input[:,[0]])\n",
    "\n",
    "left_input = line_linspace([0,0],[0,3],density*3)\n",
    "left_output = np.sin(np.pi *left_input[:,[1]])\n",
    "right_input = line_linspace([1,0],[1,3],density*3)\n",
    "right_output = np.sin(np.pi *right_input[:,[1]])\n",
    "\n",
    "field_input = generate_points_in_rectangle([0,0],[1,3],density*density*3)\n",
    "field_output = np.zeros((field_input.shape[0],1))\n",
    "\n",
    "%matplotlib widget\n",
    "from visual import process_point_sets,visualize_point_sets_interactive\n",
    "\n",
    "# 示例数据\n",
    "point_sets = {\n",
    "    \"left bound\": [left_input, left_output],\n",
    "    \"right bound\": [right_input, right_output],\n",
    "    \"init condition\": [init_input, init_output],\n",
    "    \"residual points\": [field_input, field_output]\n",
    "}\n",
    "\n",
    "\n",
    "results = process_point_sets(point_sets)\n",
    "visualize_point_sets_interactive(results,xlim = [-0.2,1.2],ylim = [0,3],zlim = [-1,1])\n"
   ]
  },
  {
   "cell_type": "code",
   "execution_count": 3,
   "metadata": {},
   "outputs": [
    {
     "name": "stdout",
     "output_type": "stream",
     "text": [
      "-------------0----------\n",
      "loss is [5.3971338e-01 5.7081437e-01 4.8268154e-01 3.6908179e-05 1.5932462e+00]\n"
     ]
    },
    {
     "ename": "TypeError",
     "evalue": "eval() arg 1 must be a string, bytes or code object",
     "output_type": "error",
     "traceback": [
      "\u001b[1;31m---------------------------------------------------------------------------\u001b[0m",
      "\u001b[1;31mTypeError\u001b[0m                                 Traceback (most recent call last)",
      "\u001b[1;32m~\\AppData\\Local\\Temp\\ipykernel_23300\\3421636368.py\u001b[0m in \u001b[0;36m<module>\u001b[1;34m\u001b[0m\n\u001b[0;32m     55\u001b[0m         \u001b[0mprint\u001b[0m\u001b[1;33m(\u001b[0m\u001b[1;34mf'-------------{i}----------'\u001b[0m\u001b[1;33m)\u001b[0m\u001b[1;33m\u001b[0m\u001b[1;33m\u001b[0m\u001b[0m\n\u001b[0;32m     56\u001b[0m         \u001b[0msolver\u001b[0m\u001b[1;33m.\u001b[0m\u001b[0mtest_step\u001b[0m\u001b[1;33m(\u001b[0m\u001b[0mprint_flag\u001b[0m\u001b[1;33m=\u001b[0m\u001b[1;32mTrue\u001b[0m\u001b[1;33m)\u001b[0m\u001b[1;33m\u001b[0m\u001b[1;33m\u001b[0m\u001b[0m\n\u001b[1;32m---> 57\u001b[1;33m         \u001b[0mrelative_error\u001b[0m \u001b[1;33m=\u001b[0m \u001b[0meval\u001b[0m\u001b[1;33m(\u001b[0m\u001b[0msolver\u001b[0m\u001b[1;33m)\u001b[0m\u001b[1;33m\u001b[0m\u001b[1;33m\u001b[0m\u001b[0m\n\u001b[0m\u001b[0;32m     58\u001b[0m         \u001b[0merror_list\u001b[0m\u001b[1;33m.\u001b[0m\u001b[0mappend\u001b[0m\u001b[1;33m(\u001b[0m\u001b[0mrelative_error\u001b[0m\u001b[1;33m)\u001b[0m\u001b[1;33m\u001b[0m\u001b[1;33m\u001b[0m\u001b[0m\n\u001b[0;32m     59\u001b[0m         \u001b[0mprint\u001b[0m\u001b[1;33m(\u001b[0m\u001b[1;34mf'relative error is {relative_error}'\u001b[0m\u001b[1;33m)\u001b[0m\u001b[1;33m\u001b[0m\u001b[1;33m\u001b[0m\u001b[0m\n",
      "\u001b[1;31mTypeError\u001b[0m: eval() arg 1 must be a string, bytes or code object"
     ]
    }
   ],
   "source": [
    "from user_fun import bc\n",
    "from torch import nn\n",
    "loss_fn = nn.MSELoss()\n",
    "left_loss = bc.data_loss_factory(loss_fn)\n",
    "right_loss = bc.data_loss_factory(loss_fn)\n",
    "init_loss = bc.data_loss_factory(loss_fn)\n",
    "\n",
    "\n",
    "def heat_loss(model, data):\n",
    "    input,output = data\n",
    "    input.requires_grad=True\n",
    "    \n",
    "\n",
    "    # 数据提取\n",
    "    x = input[:,[0]]\n",
    "    t = input[:,[1]]\n",
    "    use_input = torch.cat([x,t],dim = 1)\n",
    "    U = model(use_input)\n",
    "    u = U[:,[0]]\n",
    "\n",
    "    # 计算一阶导\n",
    "    dudx = diff(u, x)\n",
    "    dudt = diff(u, t)\n",
    "\n",
    "    # 计算二阶导\n",
    "    du2dx2 = diff(dudx, x)\n",
    "\n",
    "    loss = dudt - 0.02 * du2dx2\n",
    "    loss = loss_fn(loss, output)\n",
    "    return loss\n",
    "\n",
    "cp_list = [\n",
    "    [left_input, left_output],\n",
    "    [right_input, right_output],\n",
    "    [init_input, init_output],\n",
    "    [field_input, field_output]\n",
    "]\n",
    "\n",
    "loss_list = [\n",
    "    left_loss, right_loss, init_loss, heat_loss\n",
    "]\n",
    "\n",
    "solver = CloudPointSolver(\n",
    "    cp_list,\n",
    "    loss_list,\n",
    "    model = [2, 50, 50, 50, 1],\n",
    "    optimizer = \"adam\")\n",
    "\n",
    "\n",
    "epoch_num = 900\n",
    "error_list = []\n",
    "for i in range(epoch_num):\n",
    "    solver.train_step()\n",
    "    if i%30 == 0:\n",
    "        print(f'-------------{i}----------')\n",
    "        solver.test_step(print_flag=True)\n",
    "        relative_error = eval(solver)\n",
    "        error_list.append(relative_error)\n",
    "        print(f'relative error is {relative_error}')\n",
    "\n",
    "\n",
    "\n",
    "y_cpu = solver.model_eval(field_input)\n"
   ]
  },
  {
   "cell_type": "code",
   "execution_count": null,
   "metadata": {},
   "outputs": [
    {
     "ename": "ModuleNotFoundError",
     "evalue": "No module named 'user_fun'",
     "output_type": "error",
     "traceback": [
      "\u001b[1;31m---------------------------------------------------------------------------\u001b[0m",
      "\u001b[1;31mModuleNotFoundError\u001b[0m                       Traceback (most recent call last)",
      "\u001b[1;32m~\\AppData\\Local\\Temp\\ipykernel_23300\\1687191816.py\u001b[0m in \u001b[0;36m<module>\u001b[1;34m\u001b[0m\n\u001b[1;32m----> 1\u001b[1;33m \u001b[1;32mfrom\u001b[0m \u001b[0muser_fun\u001b[0m\u001b[1;33m.\u001b[0m\u001b[0mio\u001b[0m \u001b[1;32mimport\u001b[0m \u001b[0mread_comsol\u001b[0m\u001b[1;33m\u001b[0m\u001b[1;33m\u001b[0m\u001b[0m\n\u001b[0m\u001b[0;32m      2\u001b[0m \u001b[1;32mfrom\u001b[0m \u001b[0muser_fun\u001b[0m\u001b[1;33m.\u001b[0m\u001b[0mio\u001b[0m\u001b[1;33m.\u001b[0m\u001b[0mread_comsol\u001b[0m \u001b[1;32mimport\u001b[0m \u001b[0mprocess_comsol_time_table\u001b[0m\u001b[1;33m\u001b[0m\u001b[1;33m\u001b[0m\u001b[0m\n\u001b[0;32m      3\u001b[0m \u001b[0mtb\u001b[0m \u001b[1;33m=\u001b[0m \u001b[0mread_comsol\u001b[0m\u001b[1;33m.\u001b[0m\u001b[0mcomsol_read\u001b[0m\u001b[1;33m(\u001b[0m\u001b[1;34m'time_heat.csv'\u001b[0m\u001b[1;33m,\u001b[0m \u001b[0mskiprows\u001b[0m\u001b[1;33m=\u001b[0m\u001b[1;36m8\u001b[0m\u001b[1;33m)\u001b[0m\u001b[1;33m\u001b[0m\u001b[1;33m\u001b[0m\u001b[0m\n\u001b[0;32m      4\u001b[0m \u001b[0mtb\u001b[0m \u001b[1;33m=\u001b[0m \u001b[0mprocess_comsol_time_table\u001b[0m\u001b[1;33m(\u001b[0m\u001b[0mtb\u001b[0m\u001b[1;33m,\u001b[0m \u001b[0mspace_dimension\u001b[0m\u001b[1;33m=\u001b[0m\u001b[1;36m1\u001b[0m\u001b[1;33m)\u001b[0m\u001b[1;33m\u001b[0m\u001b[1;33m\u001b[0m\u001b[0m\n\u001b[0;32m      5\u001b[0m \u001b[1;32mdef\u001b[0m \u001b[0meval\u001b[0m\u001b[1;33m(\u001b[0m\u001b[0msolver\u001b[0m\u001b[1;33m)\u001b[0m\u001b[1;33m:\u001b[0m\u001b[1;33m\u001b[0m\u001b[1;33m\u001b[0m\u001b[0m\n",
      "\u001b[1;31mModuleNotFoundError\u001b[0m: No module named 'user_fun'"
     ]
    }
   ],
   "source": [
    "from user_fun.io import read_comsol\n",
    "from user_fun.io.read_comsol import process_comsol_time_table\n",
    "tb = read_comsol.comsol_read('time_heat.csv', skiprows=8)\n",
    "tb = process_comsol_time_table(tb, space_dimension=1)\n",
    "def eval(solver):\n",
    "    x = tb['x'].to_numpy()\n",
    "    t = tb['t'].to_numpy()\n",
    "    u = tb['u (K)'].to_numpy()\n",
    "    plot_input = np.vstack([x, t]).T\n",
    "    \n",
    "    pred_u = solver.model_eval(plot_input)\n",
    "    return np.mean(np.abs(pred_u[:,0] - u))\n",
    "import numpy as np\n",
    "import matplotlib.pyplot as plt\n",
    "import matplotlib.tri as tri\n",
    "\n",
    "print(tb.head(8))\n",
    "\n",
    "x = tb['x'].to_numpy()\n",
    "t = tb['t'].to_numpy()\n",
    "u = tb['u (K)'].to_numpy()\n",
    "plot_input = np.vstack([x, t]).T\n",
    "plot_output = solver.model_eval(plot_input)\n",
    "\n",
    "# Create color normalization\n",
    "vmin = np.min(u)\n",
    "vmax = np.max(u)\n",
    "from matplotlib.colors import Normalize\n",
    "norm = Normalize(vmin=vmin, vmax=vmax)\n",
    "\n",
    "# Create plots with vertical arrangement\n",
    "fig, axs = plt.subplots(3, 1, sharex=True, sharey=True,constrained_layout=True)\n",
    "\n",
    "# Set axis limits\n",
    "for ax in axs:\n",
    "    ax.set_xlim(0, 3)\n",
    "    ax.set_ylim(0, 1)\n",
    "    ax.set_aspect('equal')\n",
    "\n",
    "# Create triangulation object\n",
    "triang = tri.Triangulation(t, x)\n",
    "\n",
    "# Plot tricontour 1\n",
    "cn1 = axs[0].tricontourf(triang, u, cmap='viridis', norm=norm)\n",
    "axs[0].set_title('real')\n",
    "\n",
    "# Plot tricontour 2\n",
    "cn2 = axs[1].tricontourf(triang, plot_output[:, 0], cmap='viridis', norm=norm)\n",
    "axs[1].set_title('pred')\n",
    "\n",
    "# Plot tricontour 3\n",
    "cn3 = axs[2].tricontourf(triang, plot_output[:, 0] - u, cmap='viridis', norm=norm)\n",
    "axs[2].set_title('error')\n",
    "\n",
    "\n",
    "cbar_ax = fig.add_axes([0.85, 0.15, 0.05, 0.7])\n",
    "cbar = fig.colorbar(cn1, cax=cbar_ax, orientation='vertical')\n",
    "\n"
   ]
  }
 ],
 "metadata": {
  "kernelspec": {
   "display_name": "dl",
   "language": "python",
   "name": "python3"
  },
  "language_info": {
   "codemirror_mode": {
    "name": "ipython",
    "version": 3
   },
   "file_extension": ".py",
   "mimetype": "text/x-python",
   "name": "python",
   "nbconvert_exporter": "python",
   "pygments_lexer": "ipython3",
   "version": "3.8.11"
  },
  "orig_nbformat": 4
 },
 "nbformat": 4,
 "nbformat_minor": 2
}
