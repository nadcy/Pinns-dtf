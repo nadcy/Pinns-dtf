{
 "cells": [
  {
   "cell_type": "code",
   "execution_count": 1,
   "metadata": {},
   "outputs": [
    {
     "name": "stderr",
     "output_type": "stream",
     "text": [
      "c:\\Users\\23920\\anaconda3\\envs\\dl\\lib\\site-packages\\gradio\\deprecation.py:40: UserWarning: The 'plot' parameter has been deprecated. Use the new Plot component instead\n",
      "  warnings.warn(value)\n"
     ]
    },
    {
     "name": "stdout",
     "output_type": "stream",
     "text": [
      "Running on local URL:  http://127.0.0.1:7860\n",
      "\n",
      "To create a public link, set `share=True` in `launch()`.\n"
     ]
    },
    {
     "data": {
      "text/html": [
       "<div><iframe src=\"http://127.0.0.1:7860/\" width=\"100%\" height=\"500\" allow=\"autoplay; camera; microphone; clipboard-read; clipboard-write;\" frameborder=\"0\" allowfullscreen></iframe></div>"
      ],
      "text/plain": [
       "<IPython.core.display.HTML object>"
      ]
     },
     "metadata": {},
     "output_type": "display_data"
    },
    {
     "data": {
      "text/plain": []
     },
     "execution_count": 1,
     "metadata": {},
     "output_type": "execute_result"
    }
   ],
   "source": [
    "import torch\n",
    "\n",
    "import numpy as np\n",
    "import matplotlib.pyplot as plt\n",
    "import ipywidgets as widgets\n",
    "from IPython.display import display\n",
    "\n",
    "np.random.seed(1)\n",
    "torch.manual_seed(1)\n",
    "\n",
    "import sys\n",
    "sys.path.append('./../../')\n",
    "\n",
    "from user_fun.solver.cp_solver import CloudPointSolver\n",
    "from user_fun.geom import line_linspace,generate_points_in_rectangle\n",
    "\n",
    "density = 32\n",
    "init_input = line_linspace([0,0],[1,0],density*2)\n",
    "init_output = np.sin(2*np.pi *init_input[:,[0]])\n",
    "\n",
    "left_input = line_linspace([0,0],[0,3],density*3)\n",
    "left_output = np.sin(np.pi *left_input[:,[1]])\n",
    "right_input = line_linspace([1,0],[1,3],density*3)\n",
    "right_output = np.sin(np.pi *right_input[:,[1]])\n",
    "\n",
    "field_input = generate_points_in_rectangle([0,0],[1,3],density*density*3)\n",
    "\n",
    "%matplotlib widget\n",
    "from visual import process_point_sets,visualize_point_sets_interactive\n",
    "\n",
    "# 示例数据\n",
    "org_dict = {\n",
    "    \"left bound\": [left_input, left_output],\n",
    "    \"right bound\": [right_input, right_output],\n",
    "    \"init condition\": [init_input, init_output],\n",
    "    \"residual points\": [field_input, 'pde']\n",
    "}\n",
    "\n",
    "plot_cp_dict = process_point_sets(org_dict)\n",
    "\n",
    "\n",
    "import gradio as gr\n",
    "import numpy as np\n",
    "import matplotlib.pyplot as plt\n",
    "from io import BytesIO\n",
    "from PIL import Image\n",
    "\n",
    "import time\n",
    "def plot_cloudpoints(selected_cloudpoints):\n",
    "    \n",
    "    fig = plt.figure()\n",
    "    ax = fig.add_subplot(111, projection='3d')\n",
    "    for name in selected_cloudpoints:\n",
    "        x, y, c = plot_cp_dict[name]\n",
    "        ax.scatter(x, y, c, label=name)\n",
    "    ax.set_title(\"Selected Point Sets\")\n",
    "    ax.set_xlabel(\"X\")\n",
    "    ax.set_ylabel(\"Y\")\n",
    "    ax.set_zlabel(\"Height\")\n",
    "    ax.set_xlim([-0.2,1.2])\n",
    "    ax.set_ylim([0,3])\n",
    "    ax.set_zlim([-1,1])\n",
    "    ax.legend()\n",
    "\n",
    "    time.sleep(0.1)\n",
    "\n",
    "    plt.tight_layout()  # 添加此行\n",
    "    buf = BytesIO()\n",
    "    fig.savefig(buf, format=\"png\")\n",
    "    fig.savefig(\"my_figure.png\", format=\"png\")  # 将图像保存到当前文件夹下的 \"my_figure.png\" 文件\n",
    "\n",
    "    buf.seek(0)\n",
    "    plt.close(fig)\n",
    "\n",
    "    with open(\"my_figure.png\", \"rb\") as f:\n",
    "        img = Image.open(f)\n",
    "        img.load()\n",
    "\n",
    "    return img\n",
    "\n",
    "checkboxes = gr.CheckboxGroup(list(plot_cp_dict.keys()), label=\"Cloudpoints Set to Show\")\n",
    "iface = gr.Interface(\n",
    "    fn=plot_cloudpoints,\n",
    "    inputs=checkboxes,\n",
    "    outputs=gr.Image(plot=True)\n",
    ")\n",
    "iface.launch()"
   ]
  }
 ],
 "metadata": {
  "kernelspec": {
   "display_name": "dl",
   "language": "python",
   "name": "python3"
  },
  "language_info": {
   "codemirror_mode": {
    "name": "ipython",
    "version": 3
   },
   "file_extension": ".py",
   "mimetype": "text/x-python",
   "name": "python",
   "nbconvert_exporter": "python",
   "pygments_lexer": "ipython3",
   "version": "3.8.11"
  },
  "orig_nbformat": 4
 },
 "nbformat": 4,
 "nbformat_minor": 2
}
