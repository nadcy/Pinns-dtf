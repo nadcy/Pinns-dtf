{
 "cells": [
  {
   "cell_type": "code",
   "execution_count": null,
   "metadata": {},
   "outputs": [],
   "source": []
  }
 ],
 "metadata": {
  "kernelspec": {
   "display_name": "Python 3.10.4 ('dl')",
   "language": "python",
   "name": "python3"
  },
  "language_info": {
   "name": "python",
   "version": "3.10.4"
  },
  "orig_nbformat": 4,
  "vscode": {
   "interpreter": {
    "hash": "99c46dd00ab06dc21df0543c4f457244cfc60de6848aea76ff5d022d4955c1dc"
   }
  }
 },
 "nbformat": 4,
 "nbformat_minor": 2
}
